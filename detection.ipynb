{
 "cells": [
  {
   "cell_type": "code",
   "execution_count": 31,
   "id": "ec091907-48b3-4467-a405-edb41fd1ddfc",
   "metadata": {},
   "outputs": [],
   "source": [
    "from sklearn.feature_extraction.text import CountVectorizer\n",
    "from sklearn.model_selection import train_test_split\n",
    "from sklearn.naive_bayes import MultinomialNB\n",
    "from sklearn.pipeline import make_pipeline\n",
    "from sklearn import metrics\n",
    "import pandas as pd\n",
    "import joblib"
   ]
  },
  {
   "cell_type": "markdown",
   "id": "ee0f8d13-9760-4a29-ac0a-d27b667723b8",
   "metadata": {},
   "source": [
    "texts = [\n",
    "    \"mera naam binayak koirala he\", # Transliterated Hindi\n",
    "    \"I am learning NLP\",            # English\n",
    "    \"aap kaise hain\",               # Transliterated Hindi\n",
    "    \"this is an example sentence\"   # English\n",
    "]\n",
    "labels = [\"hindi\", \"english\", \"hindi\", \"english\"]"
   ]
  },
  {
   "cell_type": "code",
   "execution_count": 62,
   "id": "093df922-305f-48f6-8ad1-e653642cad38",
   "metadata": {},
   "outputs": [],
   "source": [
    "df = pd.read_excel('dataset.xlsx')\n",
    "texts = df['input'].tolist()\n",
    "labels = df['output'].tolist()"
   ]
  },
  {
   "cell_type": "code",
   "execution_count": 63,
   "id": "cf10218f-6851-469a-a14d-72e50f1cee4b",
   "metadata": {},
   "outputs": [],
   "source": [
    "X_train, X_test, y_train, y_test = train_test_split(texts, labels, test_size=0.2, random_state=42)"
   ]
  },
  {
   "cell_type": "code",
   "execution_count": 64,
   "id": "5fa29260",
   "metadata": {},
   "outputs": [
    {
     "name": "stdout",
     "output_type": "stream",
     "text": [
      "(363, 288)\n",
      "shape of Xtrain is 363\n",
      "shape of y train is  363\n"
     ]
    }
   ],
   "source": [
    "vecterizer = CountVectorizer()\n",
    "train_vector = vecterizer.fit_transform(X_train)\n",
    "print(train_vector.shape)\n",
    "print('shape of Xtrain is', len(X_train))\n",
    "print('shape of y train is ', len(y_train))"
   ]
  },
  {
   "cell_type": "code",
   "execution_count": 65,
   "id": "6d80ea24-ab07-460e-9e78-5c56c9da9f4b",
   "metadata": {},
   "outputs": [],
   "source": [
    "model = make_pipeline(CountVectorizer(ngram_range=(1, 3)), MultinomialNB())"
   ]
  },
  {
   "cell_type": "code",
   "execution_count": 66,
   "id": "eb29f3f3-5be1-44bf-bf0a-4b975e247e31",
   "metadata": {},
   "outputs": [
    {
     "data": {
      "text/plain": [
       "['model.pkl']"
      ]
     },
     "execution_count": 66,
     "metadata": {},
     "output_type": "execute_result"
    }
   ],
   "source": [
    "model.fit(X_train, y_train)\n",
    "joblib.dump(model, 'model.pkl')"
   ]
  },
  {
   "cell_type": "code",
   "execution_count": 67,
   "id": "e31a5828-4acb-4671-b0f1-6a6443fffd04",
   "metadata": {},
   "outputs": [],
   "source": [
    "import joblib\n",
    "\n",
    "# Load the model from the file\n",
    "model_2 = joblib.load('model.pkl')"
   ]
  },
  {
   "cell_type": "code",
   "execution_count": 68,
   "id": "fb92a58c-22ce-4303-96a5-a020f2b2a98a",
   "metadata": {},
   "outputs": [
    {
     "name": "stdout",
     "output_type": "stream",
     "text": [
      "              precision    recall  f1-score   support\n",
      "\n",
      "       sales       1.00      0.98      0.99        66\n",
      "       stock       0.96      1.00      0.98        25\n",
      "\n",
      "    accuracy                           0.99        91\n",
      "   macro avg       0.98      0.99      0.99        91\n",
      "weighted avg       0.99      0.99      0.99        91\n",
      "\n"
     ]
    }
   ],
   "source": [
    "y_pred = model_2.predict(X_test)\n",
    "print(metrics.classification_report(y_test, y_pred))"
   ]
  },
  {
   "cell_type": "code",
   "execution_count": 41,
   "id": "74debdb8-97ff-4c6f-95a7-0520c659f061",
   "metadata": {},
   "outputs": [
    {
     "name": "stdout",
     "output_type": "stream",
     "text": [
      "Query: 'sales of samsung' is in sales\n",
      "Query: 'stock of ram' is in stock\n",
      "Query: 'negative stock report' is in stock\n",
      "Query: 'dell stock' is in stock\n",
      "Query: 'bro stock of samsung' is in stock\n",
      "Query: 'this year stock please' is in stock\n",
      "Query: 'this year sales please' is in sales\n",
      "Query: 'inventory report for mouse' is in stock\n",
      "Query: 'bhadra detailed sale' is in sales\n",
      "Query: 'sales of worldlink' is in sales\n",
      "Query: 'stock of mouse' is in stock\n",
      "Query: 'inventory of logitech mouse' is in stock\n",
      "Query: 'inventory and stock of keyboard' is in stock\n",
      "Query: 'prasanna ghimire' is in sales\n",
      "Query: 'hello world' is in sales\n",
      "Query: 'samsung laptops ' is in stock\n",
      "Query: 'sales of prasanna' is in sales\n",
      "Query: 'prasanna purchase' is in sales\n",
      "Query: 'total keyboard remaining' is in stock\n"
     ]
    }
   ],
   "source": [
    "def check_query(query):\n",
    "    prediction = model_2.predict([query])\n",
    "    return prediction[0]\n",
    "\n",
    "queries = [\"sales of samsung\",\n",
    "           \"stock of ram\",\n",
    "           \"negative stock report\",\n",
    "           \"dell stock\",\n",
    "           \"bro stock of samsung\",\n",
    "           \"this year stock please\",\n",
    "           \"this year sales please\",\n",
    "           \"inventory report for mouse\",\n",
    "           \"bhadra detailed sale\",\n",
    "           \"sales of worldlink\",\n",
    "           \"stock of mouse\",\n",
    "           \"inventory of logitech mouse\",\n",
    "           \"inventory and stock of keyboard\",\n",
    "           \"prasanna ghimire\",\n",
    "           \"hello world\",\n",
    "           \"samsung laptops \",\n",
    "           \"sales of prasanna\",\n",
    "           \"prasanna purchase\",\n",
    "           'total keyboard remaining'\n",
    "\n",
    "        \n",
    "]\n",
    "\n",
    "for query in queries:\n",
    "    result = check_query(query)\n",
    "    print(f\"Query: '{query}' is in {result}\")"
   ]
  },
  {
   "cell_type": "code",
   "execution_count": 42,
   "id": "ce8e72e1-f6ef-4536-b7fa-8bbd1f91dfb8",
   "metadata": {},
   "outputs": [
    {
     "name": "stdout",
     "output_type": "stream",
     "text": [
      "Query: 'inventory stock for dell' is in stock\n"
     ]
    }
   ],
   "source": [
    "def check_query(query):\n",
    "    prediction = model.predict([query])\n",
    "    return prediction[0]\n",
    "\n",
    "# Single query string\n",
    "query = \"inventory stock for dell\"\n",
    "\n",
    "result = check_query(query)\n",
    "print(f\"Query: '{query}' is in {result}\")"
   ]
  },
  {
   "cell_type": "code",
   "execution_count": 44,
   "id": "cf564635-6b91-4f87-8eae-0facf63b6356",
   "metadata": {},
   "outputs": [
    {
     "name": "stdout",
     "output_type": "stream",
     "text": [
      "{\n",
      "    \"detected_language\": \"stock\",\n",
      "    \"detected_sentence\": \"dell inventory\"\n",
      "}\n"
     ]
    }
   ],
   "source": [
    "import json\n",
    "\n",
    "def check_query(query):\n",
    "    prediction = model.predict([query])\n",
    "    return prediction[0]\n",
    "\n",
    "# Single query string\n",
    "query = \"dell inventory\"\n",
    "\n",
    "# Check the query\n",
    "detected_language = check_query(query)\n",
    "result = {\n",
    "    \"detected_language\": detected_language,\n",
    "    \"detected_sentence\": query\n",
    "}\n",
    "\n",
    "# Convert the result to a JSON string\n",
    "result_json = json.dumps(result, indent=4)\n",
    "print(result_json)\n"
   ]
  },
  {
   "cell_type": "code",
   "execution_count": 47,
   "id": "6f363432-e890-4869-aab6-a1500c7c2716",
   "metadata": {},
   "outputs": [
    {
     "name": "stdout",
     "output_type": "stream",
     "text": [
      "{\n",
      "    \"detected_language\": \"sales\",\n",
      "    \"detected_sentence\": \"jo gaya so gaya\"\n",
      "}\n"
     ]
    }
   ],
   "source": [
    "import json\n",
    "from deep_translator import GoogleTranslator\n",
    "\n",
    "def check_query(query):\n",
    "    prediction = model_2.predict([query])\n",
    "    return prediction[0]\n",
    "\n",
    "# Single query string\n",
    "query = \"jo gaya so gaya\"\n",
    "\n",
    "# Check the query\n",
    "detected_language = check_query(query)\n",
    "\n",
    "# Prepare the result dictionary\n",
    "result = {\n",
    "    \"detected_language\": detected_language,\n",
    "    \"detected_sentence\": query\n",
    "}\n",
    "\n",
    "# Translate the sentence if the detected language is Hindi\n",
    "if detected_language.lower() == \"hindi\":\n",
    "    translator = GoogleTranslator(source='hindi', target='en')\n",
    "    translated_sentence = translator.translate(query)\n",
    "    result[\"translated_sentence\"] = translated_sentence\n",
    "\n",
    "# Convert the result to a JSON string\n",
    "result_json = json.dumps(result, indent=4)\n",
    "print(result_json)\n"
   ]
  },
  {
   "cell_type": "code",
   "execution_count": 48,
   "id": "af2a2388-2640-4c5e-b21e-ed1ce11fa64f",
   "metadata": {},
   "outputs": [],
   "source": [
    "import json\n",
    "from deep_translator import GoogleTranslator\n",
    "\n",
    "\n",
    "\n",
    "def check_query(query):\n",
    "    prediction = model_2.predict([query])\n",
    "    detected_language = prediction[0]\n",
    "\n",
    "\n",
    "\n",
    "    # Prepare the result dictionary\n",
    "    result = {\n",
    "        \"detected_language\": detected_language,\n",
    "        \"detected_sentence\": query\n",
    "    }\n",
    "\n",
    "    # Translate the sentence if the detected language is Hindi\n",
    "    if detected_language.lower() == \"hindi\":\n",
    "        translator = GoogleTranslator(source='hindi', target='english')\n",
    "        translated_sentence = translator.translate(query)\n",
    "        result[\"translated_sentence\"] = translated_sentence\n",
    "    \n",
    "    if detected_language.lower() == \"nepali\":\n",
    "        translator = GoogleTranslator(source='nepali', target='english')\n",
    "        translated_sentence = translator.translate(query)\n",
    "        result[\"translated_sentence\"] = translated_sentence\n",
    "\n",
    "    if detected_language.lower() == \"english\":\n",
    "        result[\"translated_sentence\"] = query\n",
    "\n",
    "    # Convert the result to a JSON string\n",
    "    # result_json = json.dumps(result, indent=4)\n",
    "    \n",
    "    print(result_json)\n",
    "    return result_json\n"
   ]
  },
  {
   "cell_type": "code",
   "execution_count": 52,
   "id": "51a18d6a-4199-49ee-824d-e3a26ad9cbfc",
   "metadata": {},
   "outputs": [
    {
     "name": "stdout",
     "output_type": "stream",
     "text": [
      "{\n",
      "    \"detected_language\": \"sales\",\n",
      "    \"detected_sentence\": \"jo gaya so gaya\"\n",
      "}\n",
      "0.0010459423065185547\n"
     ]
    }
   ],
   "source": [
    "# Single query string\n",
    "import time\n",
    "\n",
    "# Single query string\n",
    "query = \"mero sabai bhanda dherai bikri hune saman kun ho\"\n",
    "liquery = \"oh bhai\"\n",
    "\n",
    "time_1 = time.time()\n",
    "check_query(query)\n",
    "time_2 = time.time()\n",
    "\n",
    "time_3 = time_2 - time_1\n",
    "print(time_3)"
   ]
  },
  {
   "cell_type": "code",
   "execution_count": 53,
   "id": "bb76f78d-6629-4040-a1ed-643b88702f95",
   "metadata": {},
   "outputs": [
    {
     "name": "stdout",
     "output_type": "stream",
     "text": [
      "['afrikaans', 'albanian', 'amharic', 'arabic', 'armenian', 'assamese', 'aymara', 'azerbaijani', 'bambara', 'basque', 'belarusian', 'bengali', 'bhojpuri', 'bosnian', 'bulgarian', 'catalan', 'cebuano', 'chichewa', 'chinese (simplified)', 'chinese (traditional)', 'corsican', 'croatian', 'czech', 'danish', 'dhivehi', 'dogri', 'dutch', 'english', 'esperanto', 'estonian', 'ewe', 'filipino', 'finnish', 'french', 'frisian', 'galician', 'georgian', 'german', 'greek', 'guarani', 'gujarati', 'haitian creole', 'hausa', 'hawaiian', 'hebrew', 'hindi', 'hmong', 'hungarian', 'icelandic', 'igbo', 'ilocano', 'indonesian', 'irish', 'italian', 'japanese', 'javanese', 'kannada', 'kazakh', 'khmer', 'kinyarwanda', 'konkani', 'korean', 'krio', 'kurdish (kurmanji)', 'kurdish (sorani)', 'kyrgyz', 'lao', 'latin', 'latvian', 'lingala', 'lithuanian', 'luganda', 'luxembourgish', 'macedonian', 'maithili', 'malagasy', 'malay', 'malayalam', 'maltese', 'maori', 'marathi', 'meiteilon (manipuri)', 'mizo', 'mongolian', 'myanmar', 'nepali', 'norwegian', 'odia (oriya)', 'oromo', 'pashto', 'persian', 'polish', 'portuguese', 'punjabi', 'quechua', 'romanian', 'russian', 'samoan', 'sanskrit', 'scots gaelic', 'sepedi', 'serbian', 'sesotho', 'shona', 'sindhi', 'sinhala', 'slovak', 'slovenian', 'somali', 'spanish', 'sundanese', 'swahili', 'swedish', 'tajik', 'tamil', 'tatar', 'telugu', 'thai', 'tigrinya', 'tsonga', 'turkish', 'turkmen', 'twi', 'ukrainian', 'urdu', 'uyghur', 'uzbek', 'vietnamese', 'welsh', 'xhosa', 'yiddish', 'yoruba', 'zulu']\n"
     ]
    }
   ],
   "source": [
    "langs_list = GoogleTranslator().get_supported_languages()\n",
    "print(langs_list)"
   ]
  },
  {
   "cell_type": "code",
   "execution_count": 56,
   "id": "f8c5dbce-b474-46d8-9a00-3e139cef862f",
   "metadata": {},
   "outputs": [],
   "source": [
    "import speech_recognition as sr\n",
    "import re\n",
    "from pydub import AudioSegment\n",
    "import joblib\n",
    "import json\n",
    "from deep_translator import GoogleTranslator\n",
    "\n",
    "\n",
    "def process_audio(audio_file):\n",
    "\n",
    "    \n",
    "    r = sr.Recognizer()\n",
    "\n",
    "    with sr.AudioFile(audio_file) as source:\n",
    "        audio = r.record(source)  \n",
    "\n",
    "    try:\n",
    "        text = r.recognize_google(audio)\n",
    "        text = re.sub(r'shravan', 'shrawan', text, flags=re.IGNORECASE)\n",
    "        text = re.sub(r'cells', 'sales', text, flags=re.IGNORECASE)\n",
    "        text = re.sub(r'laser', 'ledger', text, flags=re.IGNORECASE)\n",
    "        text = re.sub(r'holding', 'worldlink', text, flags=re.IGNORECASE)\n",
    "        text = re.sub(r'old link', 'worldlink', text, flags=re.IGNORECASE)\n",
    "        print(text)\n",
    "    except sr.UnknownValueError:\n",
    "        print(\"Google Web Speech API could not understand audio\")\n",
    "    except sr.RequestError as e:\n",
    "        print(\"Could not request results from Google Web Speech API; {0}\".format(e))\n",
    "\n",
    "    query = text\n",
    "    # Load the model from the file\n",
    "    model_2 = joblib.load('model.pkl')\n",
    "    prediction = model_2.predict([query])\n",
    "    detected_language = prediction[0]\n",
    "\n",
    "\n",
    "\n",
    "    # Prepare the result dictionary\n",
    "    result = {\n",
    "        \"detected_language\": detected_language,\n",
    "        \"detected_sentence\": query\n",
    "    }\n",
    "\n",
    "    # Translate the sentence if the detected language is Hindi\n",
    "    if detected_language.lower() == \"hindi\":\n",
    "        translator = GoogleTranslator(source='auto', target='en')\n",
    "        translated_sentence = translator.translate(query)\n",
    "        result[\"translated_sentence\"] = translated_sentence\n",
    "        \n",
    "    if detected_language.lower() == \"english\":\n",
    "        result[\"translated_sentence\"] = query\n",
    "    # Convert the result to a JSON string\n",
    "    # result_json = json.dumps(result, indent=4)\n",
    "    \n",
    "    # print(result_json)\n",
    "    return result_json"
   ]
  },
  {
   "cell_type": "code",
   "execution_count": 57,
   "id": "2a5fec72-97fe-4d96-bb74-6fe0efba9018",
   "metadata": {},
   "outputs": [
    {
     "ename": "FileNotFoundError",
     "evalue": "[Errno 2] No such file or directory: 'sample.wav'",
     "output_type": "error",
     "traceback": [
      "\u001b[1;31m---------------------------------------------------------------------------\u001b[0m",
      "\u001b[1;31mFileNotFoundError\u001b[0m                         Traceback (most recent call last)",
      "Cell \u001b[1;32mIn[57], line 1\u001b[0m\n\u001b[1;32m----> 1\u001b[0m \u001b[43mprocess_audio\u001b[49m\u001b[43m(\u001b[49m\u001b[43maudio_file\u001b[49m\u001b[43m \u001b[49m\u001b[38;5;241;43m=\u001b[39;49m\u001b[43m \u001b[49m\u001b[38;5;124;43m'\u001b[39;49m\u001b[38;5;124;43msample.wav\u001b[39;49m\u001b[38;5;124;43m'\u001b[39;49m\u001b[43m)\u001b[49m\n",
      "Cell \u001b[1;32mIn[56], line 14\u001b[0m, in \u001b[0;36mprocess_audio\u001b[1;34m(audio_file)\u001b[0m\n\u001b[0;32m      9\u001b[0m \u001b[38;5;28;01mdef\u001b[39;00m \u001b[38;5;21mprocess_audio\u001b[39m(audio_file):\n\u001b[0;32m     12\u001b[0m     r \u001b[38;5;241m=\u001b[39m sr\u001b[38;5;241m.\u001b[39mRecognizer()\n\u001b[1;32m---> 14\u001b[0m \u001b[43m    \u001b[49m\u001b[38;5;28;43;01mwith\u001b[39;49;00m\u001b[43m \u001b[49m\u001b[43msr\u001b[49m\u001b[38;5;241;43m.\u001b[39;49m\u001b[43mAudioFile\u001b[49m\u001b[43m(\u001b[49m\u001b[43maudio_file\u001b[49m\u001b[43m)\u001b[49m\u001b[43m \u001b[49m\u001b[38;5;28;43;01mas\u001b[39;49;00m\u001b[43m \u001b[49m\u001b[43msource\u001b[49m\u001b[43m:\u001b[49m\n\u001b[0;32m     15\u001b[0m \u001b[43m        \u001b[49m\u001b[43maudio\u001b[49m\u001b[43m \u001b[49m\u001b[38;5;241;43m=\u001b[39;49m\u001b[43m \u001b[49m\u001b[43mr\u001b[49m\u001b[38;5;241;43m.\u001b[39;49m\u001b[43mrecord\u001b[49m\u001b[43m(\u001b[49m\u001b[43msource\u001b[49m\u001b[43m)\u001b[49m  \n\u001b[0;32m     17\u001b[0m     \u001b[38;5;28;01mtry\u001b[39;00m:\n",
      "File \u001b[1;32mc:\\Users\\binay\\AppData\\Local\\Programs\\Python\\Python312\\Lib\\site-packages\\speech_recognition\\__init__.py:241\u001b[0m, in \u001b[0;36mAudioFile.__enter__\u001b[1;34m(self)\u001b[0m\n\u001b[0;32m    238\u001b[0m \u001b[38;5;28;01massert\u001b[39;00m \u001b[38;5;28mself\u001b[39m\u001b[38;5;241m.\u001b[39mstream \u001b[38;5;129;01mis\u001b[39;00m \u001b[38;5;28;01mNone\u001b[39;00m, \u001b[38;5;124m\"\u001b[39m\u001b[38;5;124mThis audio source is already inside a context manager\u001b[39m\u001b[38;5;124m\"\u001b[39m\n\u001b[0;32m    239\u001b[0m \u001b[38;5;28;01mtry\u001b[39;00m:\n\u001b[0;32m    240\u001b[0m     \u001b[38;5;66;03m# attempt to read the file as WAV\u001b[39;00m\n\u001b[1;32m--> 241\u001b[0m     \u001b[38;5;28mself\u001b[39m\u001b[38;5;241m.\u001b[39maudio_reader \u001b[38;5;241m=\u001b[39m \u001b[43mwave\u001b[49m\u001b[38;5;241;43m.\u001b[39;49m\u001b[43mopen\u001b[49m\u001b[43m(\u001b[49m\u001b[38;5;28;43mself\u001b[39;49m\u001b[38;5;241;43m.\u001b[39;49m\u001b[43mfilename_or_fileobject\u001b[49m\u001b[43m,\u001b[49m\u001b[43m \u001b[49m\u001b[38;5;124;43m\"\u001b[39;49m\u001b[38;5;124;43mrb\u001b[39;49m\u001b[38;5;124;43m\"\u001b[39;49m\u001b[43m)\u001b[49m\n\u001b[0;32m    242\u001b[0m     \u001b[38;5;28mself\u001b[39m\u001b[38;5;241m.\u001b[39mlittle_endian \u001b[38;5;241m=\u001b[39m \u001b[38;5;28;01mTrue\u001b[39;00m  \u001b[38;5;66;03m# RIFF WAV is a little-endian format (most ``audioop`` operations assume that the frames are stored in little-endian form)\u001b[39;00m\n\u001b[0;32m    243\u001b[0m \u001b[38;5;28;01mexcept\u001b[39;00m (wave\u001b[38;5;241m.\u001b[39mError, \u001b[38;5;167;01mEOFError\u001b[39;00m):\n",
      "File \u001b[1;32mc:\\Users\\binay\\AppData\\Local\\Programs\\Python\\Python312\\Lib\\wave.py:649\u001b[0m, in \u001b[0;36mopen\u001b[1;34m(f, mode)\u001b[0m\n\u001b[0;32m    647\u001b[0m         mode \u001b[38;5;241m=\u001b[39m \u001b[38;5;124m'\u001b[39m\u001b[38;5;124mrb\u001b[39m\u001b[38;5;124m'\u001b[39m\n\u001b[0;32m    648\u001b[0m \u001b[38;5;28;01mif\u001b[39;00m mode \u001b[38;5;129;01min\u001b[39;00m (\u001b[38;5;124m'\u001b[39m\u001b[38;5;124mr\u001b[39m\u001b[38;5;124m'\u001b[39m, \u001b[38;5;124m'\u001b[39m\u001b[38;5;124mrb\u001b[39m\u001b[38;5;124m'\u001b[39m):\n\u001b[1;32m--> 649\u001b[0m     \u001b[38;5;28;01mreturn\u001b[39;00m \u001b[43mWave_read\u001b[49m\u001b[43m(\u001b[49m\u001b[43mf\u001b[49m\u001b[43m)\u001b[49m\n\u001b[0;32m    650\u001b[0m \u001b[38;5;28;01melif\u001b[39;00m mode \u001b[38;5;129;01min\u001b[39;00m (\u001b[38;5;124m'\u001b[39m\u001b[38;5;124mw\u001b[39m\u001b[38;5;124m'\u001b[39m, \u001b[38;5;124m'\u001b[39m\u001b[38;5;124mwb\u001b[39m\u001b[38;5;124m'\u001b[39m):\n\u001b[0;32m    651\u001b[0m     \u001b[38;5;28;01mreturn\u001b[39;00m Wave_write(f)\n",
      "File \u001b[1;32mc:\\Users\\binay\\AppData\\Local\\Programs\\Python\\Python312\\Lib\\wave.py:282\u001b[0m, in \u001b[0;36mWave_read.__init__\u001b[1;34m(self, f)\u001b[0m\n\u001b[0;32m    280\u001b[0m \u001b[38;5;28mself\u001b[39m\u001b[38;5;241m.\u001b[39m_i_opened_the_file \u001b[38;5;241m=\u001b[39m \u001b[38;5;28;01mNone\u001b[39;00m\n\u001b[0;32m    281\u001b[0m \u001b[38;5;28;01mif\u001b[39;00m \u001b[38;5;28misinstance\u001b[39m(f, \u001b[38;5;28mstr\u001b[39m):\n\u001b[1;32m--> 282\u001b[0m     f \u001b[38;5;241m=\u001b[39m \u001b[43mbuiltins\u001b[49m\u001b[38;5;241;43m.\u001b[39;49m\u001b[43mopen\u001b[49m\u001b[43m(\u001b[49m\u001b[43mf\u001b[49m\u001b[43m,\u001b[49m\u001b[43m \u001b[49m\u001b[38;5;124;43m'\u001b[39;49m\u001b[38;5;124;43mrb\u001b[39;49m\u001b[38;5;124;43m'\u001b[39;49m\u001b[43m)\u001b[49m\n\u001b[0;32m    283\u001b[0m     \u001b[38;5;28mself\u001b[39m\u001b[38;5;241m.\u001b[39m_i_opened_the_file \u001b[38;5;241m=\u001b[39m f\n\u001b[0;32m    284\u001b[0m \u001b[38;5;66;03m# else, assume it is an open file object already\u001b[39;00m\n",
      "\u001b[1;31mFileNotFoundError\u001b[0m: [Errno 2] No such file or directory: 'sample.wav'"
     ]
    }
   ],
   "source": [
    "process_audio(audio_file = 'sample.wav')"
   ]
  },
  {
   "cell_type": "code",
   "execution_count": 58,
   "id": "e86ec8ac-7866-4be5-a3e9-bf847e265bdf",
   "metadata": {
    "scrolled": true
   },
   "outputs": [
    {
     "name": "stdout",
     "output_type": "stream",
     "text": [
      "An error occurred: None --> \n",
      "You have to pass your api_key!\n",
      "You can do this by passing the key as a parameter/argument to the translator class\n",
      "or by setting the environment variable DEEPL_API_KEY\n",
      "\n",
      "Example: export DEEPL_API_KEY=\"your_api_key\"\n",
      "\n"
     ]
    }
   ],
   "source": [
    "from deep_translator import DeeplTranslator\n",
    "\n",
    "# Define the text to translate\n",
    "nepali_text = \"shrawan ko sales kati bhayo ?\"\n",
    "\n",
    "try:\n",
    "    # Perform the translation with automatic source language detection\n",
    "    translated_text = DeeplTranslator(target='en').translate(nepali_text)\n",
    "    print(\"Translated Text:\", translated_text)\n",
    "\n",
    "except Exception as e:\n",
    "    print(\"An error occurred:\", e)\n",
    "    "
   ]
  },
  {
   "cell_type": "code",
   "execution_count": 59,
   "id": "70efd726-b8e4-4e66-ad64-8489211c2b6f",
   "metadata": {},
   "outputs": [
    {
     "data": {
      "text/plain": [
       "'सशि जि के x?'"
      ]
     },
     "execution_count": 59,
     "metadata": {},
     "output_type": "execute_result"
    }
   ],
   "source": [
    "from nepali_unicode_converter.convert import Converter\n",
    "\n",
    "converter = Converter()\n",
    "mystring = 'sashi ji ke x?'\n",
    "\n",
    "mystring = converter.convert(mystring)\n",
    "mystring"
   ]
  },
  {
   "cell_type": "code",
   "execution_count": 61,
   "id": "b8401ed3-5612-46ca-92d9-29131a6525d1",
   "metadata": {},
   "outputs": [
    {
     "name": "stdout",
     "output_type": "stream",
     "text": [
      "Original (Nepali): सशि जि के x?\n",
      "Translated (English): What is Sashi Ji doing?\n"
     ]
    }
   ],
   "source": [
    "from deep_translator import GoogleTranslator\n",
    "\n",
    "# Nepali text\n",
    "nepali_text = mystring\n",
    "\n",
    "# Translate to English using GoogleTranslator\n",
    "translated_text = GoogleTranslator(source='nepali', target='english').translate(nepali_text)\n",
    "\n",
    "# Print the translated text\n",
    "print(f\"Original (Nepali): {nepali_text}\")\n",
    "print(f\"Translated (English): {translated_text}\")\n"
   ]
  },
  {
   "cell_type": "code",
   "execution_count": null,
   "id": "f17e976d-2395-477c-8118-aeef0fb34009",
   "metadata": {},
   "outputs": [],
   "source": []
  },
  {
   "cell_type": "code",
   "execution_count": null,
   "id": "7adb6dfe-0044-4c98-b90e-a0fae190ed79",
   "metadata": {},
   "outputs": [],
   "source": []
  },
  {
   "cell_type": "code",
   "execution_count": null,
   "id": "615efe6f-16db-4429-b8d0-946c5295fecc",
   "metadata": {},
   "outputs": [],
   "source": []
  },
  {
   "cell_type": "code",
   "execution_count": null,
   "id": "ec87ab08-c59c-43e3-9923-bb303f2576ac",
   "metadata": {},
   "outputs": [],
   "source": []
  },
  {
   "cell_type": "code",
   "execution_count": null,
   "id": "ed8fae33-3fec-43e7-9962-9c709c1df06a",
   "metadata": {},
   "outputs": [],
   "source": []
  },
  {
   "cell_type": "code",
   "execution_count": null,
   "id": "ac1c4d71-7e1b-49f5-8328-8a8f5c2c6b3e",
   "metadata": {},
   "outputs": [],
   "source": []
  },
  {
   "cell_type": "code",
   "execution_count": null,
   "id": "0d4e8bf5-c638-42c3-9998-f1487caab19e",
   "metadata": {},
   "outputs": [],
   "source": []
  },
  {
   "cell_type": "code",
   "execution_count": null,
   "id": "311ad5d8-ed99-4f29-a3c6-85aa392838a7",
   "metadata": {},
   "outputs": [],
   "source": []
  },
  {
   "cell_type": "code",
   "execution_count": null,
   "id": "2dc0d020-357c-42db-981a-658e81f0f8b2",
   "metadata": {},
   "outputs": [],
   "source": []
  },
  {
   "cell_type": "code",
   "execution_count": null,
   "id": "932bf38e-5134-4767-a20b-1a7e37159c7b",
   "metadata": {},
   "outputs": [],
   "source": []
  },
  {
   "cell_type": "code",
   "execution_count": null,
   "id": "7412beb4-d465-4ebf-a4f0-69d7609d515a",
   "metadata": {},
   "outputs": [],
   "source": []
  },
  {
   "cell_type": "code",
   "execution_count": null,
   "id": "9a2c3fe3-37df-40ad-ac4f-854e08f84a93",
   "metadata": {},
   "outputs": [],
   "source": []
  },
  {
   "cell_type": "code",
   "execution_count": null,
   "id": "bda17bc5-a059-42a1-a1ac-94750b26f960",
   "metadata": {},
   "outputs": [],
   "source": []
  },
  {
   "cell_type": "code",
   "execution_count": null,
   "id": "791405d7-5013-47bd-a2e0-cf790a04d1a7",
   "metadata": {},
   "outputs": [],
   "source": []
  },
  {
   "cell_type": "code",
   "execution_count": null,
   "id": "92da4616-8df6-429b-8c87-3ceca4159e0b",
   "metadata": {},
   "outputs": [],
   "source": []
  },
  {
   "cell_type": "code",
   "execution_count": null,
   "id": "44e32af2-2e1a-463d-b112-0d6803f139c0",
   "metadata": {},
   "outputs": [],
   "source": []
  },
  {
   "cell_type": "code",
   "execution_count": null,
   "id": "f5d71d1b-bb96-4361-ac4f-29d8836313bc",
   "metadata": {},
   "outputs": [],
   "source": []
  },
  {
   "cell_type": "code",
   "execution_count": null,
   "id": "4e99315e-cdc6-49c5-9efd-94fa5a9e4c08",
   "metadata": {},
   "outputs": [],
   "source": []
  },
  {
   "cell_type": "code",
   "execution_count": null,
   "id": "eb5b5364-2281-4dc5-b78e-fa939dc2fd61",
   "metadata": {},
   "outputs": [],
   "source": []
  },
  {
   "cell_type": "code",
   "execution_count": null,
   "id": "ada5eed3-80eb-4809-96e2-5b8a72fb334e",
   "metadata": {},
   "outputs": [],
   "source": []
  },
  {
   "cell_type": "code",
   "execution_count": null,
   "id": "255b4165-f68d-45b9-8a5a-9995b085e1d5",
   "metadata": {},
   "outputs": [],
   "source": []
  },
  {
   "cell_type": "code",
   "execution_count": null,
   "id": "898bc45b-b9d3-483f-adf9-ead8da6b6faf",
   "metadata": {},
   "outputs": [],
   "source": []
  },
  {
   "cell_type": "code",
   "execution_count": null,
   "id": "7e62751a-1deb-4de8-a9da-58de3b982950",
   "metadata": {},
   "outputs": [],
   "source": []
  },
  {
   "cell_type": "code",
   "execution_count": null,
   "id": "c6f4307a-2a30-4d4f-894e-4c04a1855017",
   "metadata": {},
   "outputs": [],
   "source": []
  },
  {
   "cell_type": "code",
   "execution_count": null,
   "id": "fb37b539-6939-402f-90db-c7726900c116",
   "metadata": {},
   "outputs": [],
   "source": []
  },
  {
   "cell_type": "code",
   "execution_count": null,
   "id": "d8fe20f2-adc1-48c6-a24a-38045f7f4afe",
   "metadata": {},
   "outputs": [],
   "source": []
  },
  {
   "cell_type": "code",
   "execution_count": null,
   "id": "8857c126-77ea-431a-b741-1f38502dcd94",
   "metadata": {},
   "outputs": [],
   "source": []
  },
  {
   "cell_type": "code",
   "execution_count": null,
   "id": "df82f623-a146-41ee-99c0-ae4bd874bf49",
   "metadata": {},
   "outputs": [],
   "source": []
  },
  {
   "cell_type": "code",
   "execution_count": null,
   "id": "58010956-f995-481e-a742-4f3ab85627ff",
   "metadata": {},
   "outputs": [],
   "source": []
  },
  {
   "cell_type": "code",
   "execution_count": null,
   "id": "0695b990-4e60-41b4-b8ef-7b64653f0f1e",
   "metadata": {},
   "outputs": [],
   "source": []
  },
  {
   "cell_type": "code",
   "execution_count": null,
   "id": "a6c27bc5-0e0e-40d0-8a1d-062167c337eb",
   "metadata": {},
   "outputs": [],
   "source": []
  },
  {
   "cell_type": "code",
   "execution_count": null,
   "id": "54686006-84a9-4e93-8c47-6261e20ba779",
   "metadata": {},
   "outputs": [],
   "source": []
  },
  {
   "cell_type": "code",
   "execution_count": null,
   "id": "aeb0300d-c084-4c88-abcc-e080efc54fe8",
   "metadata": {},
   "outputs": [],
   "source": []
  },
  {
   "cell_type": "code",
   "execution_count": null,
   "id": "668e8890-6bcf-474a-81fd-4c8529cbf0b2",
   "metadata": {},
   "outputs": [],
   "source": []
  },
  {
   "cell_type": "code",
   "execution_count": null,
   "id": "ccf149ae-31c7-4695-a095-efe530ebe1a4",
   "metadata": {},
   "outputs": [],
   "source": []
  },
  {
   "cell_type": "code",
   "execution_count": null,
   "id": "a90d3e08-8188-4423-a77b-2e8f0f5c4bb4",
   "metadata": {},
   "outputs": [],
   "source": []
  },
  {
   "cell_type": "code",
   "execution_count": null,
   "id": "1e4b95ff-c3ae-4fd9-9587-d21736c88ab4",
   "metadata": {},
   "outputs": [],
   "source": []
  },
  {
   "cell_type": "code",
   "execution_count": null,
   "id": "604db73f-32df-4ee7-9bf6-f4df31f6ec34",
   "metadata": {},
   "outputs": [],
   "source": []
  },
  {
   "cell_type": "code",
   "execution_count": null,
   "id": "51efba23-2807-41ee-87e4-7ff818a5175b",
   "metadata": {},
   "outputs": [],
   "source": []
  },
  {
   "cell_type": "code",
   "execution_count": null,
   "id": "6dbbb7d2-42f3-4839-a633-39bcc676f0ea",
   "metadata": {},
   "outputs": [],
   "source": []
  },
  {
   "cell_type": "code",
   "execution_count": null,
   "id": "7de6ac25-b9cf-4ba4-96e4-1762601fbaf8",
   "metadata": {},
   "outputs": [],
   "source": []
  },
  {
   "cell_type": "code",
   "execution_count": null,
   "id": "028a6574-be34-4c34-9016-75a4c16c0f79",
   "metadata": {},
   "outputs": [],
   "source": []
  },
  {
   "cell_type": "code",
   "execution_count": null,
   "id": "4a9e7814-30cd-4c79-a5f0-db4c3efea998",
   "metadata": {},
   "outputs": [],
   "source": []
  },
  {
   "cell_type": "code",
   "execution_count": null,
   "id": "372a57e8-fe84-4779-afe0-b6182c69ca7f",
   "metadata": {},
   "outputs": [],
   "source": []
  },
  {
   "cell_type": "code",
   "execution_count": null,
   "id": "9fbcad46-9213-48ca-8630-7bb6fed0655f",
   "metadata": {},
   "outputs": [],
   "source": []
  },
  {
   "cell_type": "code",
   "execution_count": null,
   "id": "b9096da7-ba1c-43de-82c9-21729a0462a8",
   "metadata": {},
   "outputs": [],
   "source": []
  },
  {
   "cell_type": "code",
   "execution_count": null,
   "id": "c3fc9d13-ef45-4118-b769-d28fbd3e1f4b",
   "metadata": {},
   "outputs": [],
   "source": []
  },
  {
   "cell_type": "code",
   "execution_count": null,
   "id": "f75a220a-39b5-48d9-89f7-2288bdaa7c00",
   "metadata": {},
   "outputs": [],
   "source": []
  },
  {
   "cell_type": "code",
   "execution_count": null,
   "id": "5f048c34-a77f-4794-8592-e91ce0abb7ac",
   "metadata": {},
   "outputs": [],
   "source": []
  },
  {
   "cell_type": "code",
   "execution_count": null,
   "id": "80ba9a8f-958c-4feb-b824-ab24c64eac4c",
   "metadata": {},
   "outputs": [],
   "source": []
  },
  {
   "cell_type": "code",
   "execution_count": null,
   "id": "cb782bfd-0bf5-4fd5-8c3e-b45aa5190d6d",
   "metadata": {},
   "outputs": [],
   "source": []
  },
  {
   "cell_type": "code",
   "execution_count": null,
   "id": "76679c37-24e4-461a-93ba-078a62a37e54",
   "metadata": {},
   "outputs": [],
   "source": []
  },
  {
   "cell_type": "code",
   "execution_count": null,
   "id": "a858df08-13c6-48c2-a86b-9a8e6eba6200",
   "metadata": {},
   "outputs": [],
   "source": []
  },
  {
   "cell_type": "code",
   "execution_count": null,
   "id": "7478881b-ce0e-4665-ab1e-356ac31b7c65",
   "metadata": {},
   "outputs": [],
   "source": []
  },
  {
   "cell_type": "code",
   "execution_count": null,
   "id": "2e3f3af5-4084-4b7e-9cc9-05a316e91632",
   "metadata": {},
   "outputs": [],
   "source": []
  },
  {
   "cell_type": "code",
   "execution_count": null,
   "id": "61d01350-74ac-401d-bfea-94b40940a39f",
   "metadata": {},
   "outputs": [],
   "source": []
  },
  {
   "cell_type": "code",
   "execution_count": null,
   "id": "5fd9a679-c168-49da-9799-20c9249ef747",
   "metadata": {},
   "outputs": [],
   "source": []
  },
  {
   "cell_type": "code",
   "execution_count": null,
   "id": "bfd7564a-badd-4a3c-ad8f-38fbb3fe8c47",
   "metadata": {},
   "outputs": [],
   "source": []
  },
  {
   "cell_type": "code",
   "execution_count": null,
   "id": "3bf1eae6-2cc1-4e64-9b5e-61987a358a41",
   "metadata": {},
   "outputs": [],
   "source": []
  },
  {
   "cell_type": "code",
   "execution_count": null,
   "id": "778346e7-4aa6-4843-a6d8-0421f55a7086",
   "metadata": {},
   "outputs": [],
   "source": []
  },
  {
   "cell_type": "code",
   "execution_count": 225,
   "id": "3b85b1e5-acca-4f17-8dfd-d6a6564559c9",
   "metadata": {},
   "outputs": [],
   "source": [
    "import nepali_roman as nr\n",
    "ok = nr.romanize_text(\"के छ बाबु\")"
   ]
  },
  {
   "cell_type": "code",
   "execution_count": 226,
   "id": "bf317c6f-4984-44e0-9eb8-334d0d15afae",
   "metadata": {},
   "outputs": [
    {
     "data": {
      "text/plain": [
       "'ke chha baabu'"
      ]
     },
     "execution_count": 226,
     "metadata": {},
     "output_type": "execute_result"
    }
   ],
   "source": [
    "ok"
   ]
  },
  {
   "cell_type": "code",
   "execution_count": null,
   "id": "2e47f33a-9a3a-4ac1-b467-f22d07f20f50",
   "metadata": {},
   "outputs": [],
   "source": []
  }
 ],
 "metadata": {
  "kernelspec": {
   "display_name": "Python 3",
   "language": "python",
   "name": "python3"
  },
  "language_info": {
   "codemirror_mode": {
    "name": "ipython",
    "version": 3
   },
   "file_extension": ".py",
   "mimetype": "text/x-python",
   "name": "python",
   "nbconvert_exporter": "python",
   "pygments_lexer": "ipython3",
   "version": "3.12.3"
  }
 },
 "nbformat": 4,
 "nbformat_minor": 5
}
