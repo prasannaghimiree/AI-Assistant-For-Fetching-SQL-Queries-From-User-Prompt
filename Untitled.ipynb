{
 "cells": [
  {
   "cell_type": "code",
   "execution_count": 6,
   "id": "5f070c71-12a2-40c9-809c-d35f923e4666",
   "metadata": {},
   "outputs": [
    {
     "ename": "NameError",
     "evalue": "name 'check_query' is not defined",
     "output_type": "error",
     "traceback": [
      "\u001b[1;31m---------------------------------------------------------------------------\u001b[0m",
      "\u001b[1;31mNameError\u001b[0m                                 Traceback (most recent call last)",
      "Cell \u001b[1;32mIn[6], line 11\u001b[0m\n\u001b[0;32m      7\u001b[0m     \u001b[38;5;28;01mreturn\u001b[39;00m prediction[\u001b[38;5;241m0\u001b[39m]\n\u001b[0;32m      9\u001b[0m query \u001b[38;5;241m=\u001b[39m \u001b[38;5;124m\"\u001b[39m\u001b[38;5;124mstock report of dell\u001b[39m\u001b[38;5;124m\"\u001b[39m\n\u001b[1;32m---> 11\u001b[0m detected_query \u001b[38;5;241m=\u001b[39m \u001b[43mcheck_query\u001b[49m(query)\n",
      "\u001b[1;31mNameError\u001b[0m: name 'check_query' is not defined"
     ]
    }
   ],
   "source": [
    "import joblib\n",
    "\n",
    "model_2 = joblib.load('model_2.pkl')\n",
    "\n",
    "def detect_query(query):\n",
    "    prediction = model_2.predict([query])\n",
    "    return prediction[0]\n",
    "\n",
    "query = \"stock report of dell\"\n",
    "\n",
    "detected_query = check_query(query)\n"
   ]
  },
  {
   "cell_type": "code",
   "execution_count": 10,
   "id": "c41b9a5e-3d32-486f-a364-4e01657d9f55",
   "metadata": {},
   "outputs": [
    {
     "data": {
      "text/plain": [
       "'stock'"
      ]
     },
     "execution_count": 10,
     "metadata": {},
     "output_type": "execute_result"
    }
   ],
   "source": [
    "detected_query"
   ]
  },
  {
   "cell_type": "code",
   "execution_count": null,
   "id": "46218a4f-4ed8-4e94-8573-27cf11cb5785",
   "metadata": {},
   "outputs": [],
   "source": []
  }
 ],
 "metadata": {
  "kernelspec": {
   "display_name": "Python 3",
   "language": "python",
   "name": "python3"
  },
  "language_info": {
   "codemirror_mode": {
    "name": "ipython",
    "version": 3
   },
   "file_extension": ".py",
   "mimetype": "text/x-python",
   "name": "python",
   "nbconvert_exporter": "python",
   "pygments_lexer": "ipython3",
   "version": "3.12.3"
  }
 },
 "nbformat": 4,
 "nbformat_minor": 5
}
