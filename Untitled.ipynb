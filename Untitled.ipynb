{
 "cells": [
  {
   "cell_type": "code",
   "execution_count": 9,
   "id": "5f070c71-12a2-40c9-809c-d35f923e4666",
   "metadata": {},
   "outputs": [],
   "source": [
    "import joblib\n",
    "\n",
    "model_2 = joblib.load('model_2.pkl')\n",
    "\n",
    "def detect_query(query):\n",
    "    prediction = model_2.predict([query])\n",
    "    return prediction[0]\n",
    "\n",
    "query = \"stock report of dell\"\n",
    "\n",
    "detected_query = check_query(query)\n"
   ]
  },
  {
   "cell_type": "code",
   "execution_count": 10,
   "id": "c41b9a5e-3d32-486f-a364-4e01657d9f55",
   "metadata": {},
   "outputs": [
    {
     "data": {
      "text/plain": [
       "'stock'"
      ]
     },
     "execution_count": 10,
     "metadata": {},
     "output_type": "execute_result"
    }
   ],
   "source": [
    "detected_query"
   ]
  },
  {
   "cell_type": "code",
   "execution_count": null,
   "id": "46218a4f-4ed8-4e94-8573-27cf11cb5785",
   "metadata": {},
   "outputs": [],
   "source": []
  }
 ],
 "metadata": {
  "kernelspec": {
   "display_name": "Python 3 (ipykernel)",
   "language": "python",
   "name": "python3"
  },
  "language_info": {
   "codemirror_mode": {
    "name": "ipython",
    "version": 3
   },
   "file_extension": ".py",
   "mimetype": "text/x-python",
   "name": "python",
   "nbconvert_exporter": "python",
   "pygments_lexer": "ipython3",
   "version": "3.12.3"
  }
 },
 "nbformat": 4,
 "nbformat_minor": 5
}
